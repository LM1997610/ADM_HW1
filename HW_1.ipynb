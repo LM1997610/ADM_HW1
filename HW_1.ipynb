{
 "cells": [
  {
   "cell_type": "markdown",
   "id": "338213ce",
   "metadata": {},
   "source": [
    "## • Introduction :"
   ]
  },
  {
   "cell_type": "markdown",
   "id": "a40e3e18",
   "metadata": {},
   "source": [
    "#### Say \"Hello, World!\" With Python"
   ]
  },
  {
   "cell_type": "code",
   "execution_count": null,
   "id": "844f95d7",
   "metadata": {},
   "outputs": [],
   "source": [
    "if __name__ == '__main__':\n",
    "    print(\"Hello, World!\")"
   ]
  },
  {
   "cell_type": "markdown",
   "id": "d8823ac2",
   "metadata": {},
   "source": [
    "#### Python If-Else"
   ]
  },
  {
   "cell_type": "code",
   "execution_count": null,
   "id": "6f4d3e9e",
   "metadata": {},
   "outputs": [],
   "source": [
    "import math\n",
    "import os\n",
    "import random\n",
    "import re\n",
    "import sys\n",
    "\n",
    "if __name__ == '__main__':\n",
    "    n = int(input().strip())\n",
    "    if n%2 != 0:\n",
    "        print(\"Weird\")\n",
    "    else:\n",
    "        if n in range(2,6):\n",
    "            print(\"Not Weird\")\n",
    "        elif n in range(6,21):\n",
    "            print(\"Weird\")\n",
    "        else:\n",
    "            print(\"Not Weird\")"
   ]
  },
  {
   "cell_type": "markdown",
   "id": "26e0b7ea",
   "metadata": {},
   "source": [
    "#### Arithmetic Operators"
   ]
  },
  {
   "cell_type": "code",
   "execution_count": null,
   "id": "7c202955",
   "metadata": {},
   "outputs": [],
   "source": [
    "if __name__ == '__main__':\n",
    "    a = int(input())\n",
    "    b = int(input())\n",
    "    print(a+b)\n",
    "    print(a-b)\n",
    "    print(a*b)"
   ]
  },
  {
   "cell_type": "markdown",
   "id": "3b4d814b",
   "metadata": {},
   "source": [
    "#### Python: Division"
   ]
  },
  {
   "cell_type": "code",
   "execution_count": null,
   "id": "da03ce91",
   "metadata": {},
   "outputs": [],
   "source": [
    "if __name__ == '__main__':\n",
    "    a = int(input())\n",
    "    b = int(input())\n",
    "    print(a//b)\n",
    "    print(a/b)"
   ]
  },
  {
   "cell_type": "markdown",
   "id": "d767e089",
   "metadata": {},
   "source": [
    "#### Loops"
   ]
  },
  {
   "cell_type": "code",
   "execution_count": null,
   "id": "04ddb63c",
   "metadata": {},
   "outputs": [],
   "source": [
    "if __name__ == '__main__':\n",
    "    n = int(input())\n",
    "    for x in range(n):\n",
    "        print(x**2)"
   ]
  },
  {
   "cell_type": "markdown",
   "id": "d321f70a",
   "metadata": {},
   "source": [
    "#### Write a function"
   ]
  },
  {
   "cell_type": "code",
   "execution_count": 96,
   "id": "39e00570",
   "metadata": {},
   "outputs": [
    {
     "name": "stdout",
     "output_type": "stream",
     "text": [
      "1900\n",
      "False\n"
     ]
    }
   ],
   "source": [
    "def is_leap(year):         \n",
    "    \n",
    "    leap = False\n",
    "    \n",
    "    y4 = year/4\n",
    "    y400 = year/400\n",
    "    y100 = year/100\n",
    "    if y100.is_integer() and y400.is_integer():\n",
    "        leap = True\n",
    "    elif y4.is_integer() and not y100.is_integer() :\n",
    "        leap = True \n",
    "    return leap\n",
    "\n",
    "year = int(input())\n",
    "print(is_leap(year))"
   ]
  },
  {
   "cell_type": "markdown",
   "id": "9d775ce8",
   "metadata": {},
   "source": [
    "#### Print Function"
   ]
  },
  {
   "cell_type": "code",
   "execution_count": 17,
   "id": "84bca383",
   "metadata": {},
   "outputs": [
    {
     "name": "stdout",
     "output_type": "stream",
     "text": [
      "3\n",
      "123"
     ]
    }
   ],
   "source": [
    "if __name__ == '__main__':\n",
    "    n = int(input())\n",
    "    def print_string():\n",
    "        for x in range(1, n+1, 1):\n",
    "            print(x, end = \"\")\n",
    "    print_string()"
   ]
  },
  {
   "cell_type": "markdown",
   "id": "6c6518af",
   "metadata": {},
   "source": [
    "## • Data types:"
   ]
  },
  {
   "cell_type": "markdown",
   "id": "141b9b48",
   "metadata": {},
   "source": [
    "#### List Comprehensions"
   ]
  },
  {
   "cell_type": "code",
   "execution_count": null,
   "id": "afd02613",
   "metadata": {},
   "outputs": [],
   "source": [
    "if __name__ == '__main__':\n",
    "    L = [] \n",
    "    \n",
    "    x = int(input())\n",
    "    y = int(input())\n",
    "    z = int(input())\n",
    "    n = int(input())\n",
    "    \n",
    "    L = [[i,j,k] for i in range(x+1) for j in range(y+1) for k in range(z+1)]\n",
    "    L = [element for element in L if sum(element) != n]\n",
    "    print(L, \" -> lenght = \", len(L))"
   ]
  },
  {
   "cell_type": "markdown",
   "id": "c310c567",
   "metadata": {},
   "source": [
    "#### Tuples"
   ]
  },
  {
   "cell_type": "code",
   "execution_count": null,
   "id": "aa7e476e",
   "metadata": {},
   "outputs": [],
   "source": [
    "if __name__ == '__main__':\n",
    "    n = int(input())\n",
    "    integer_list = map(int, input().split())\n",
    "    t = ()\n",
    "    for x in integer_list:\n",
    "        t = t + (x, )  # add item to the tuple\n",
    "    print(t)\n",
    "    print(hash(t))"
   ]
  },
  {
   "cell_type": "markdown",
   "id": "d7aeb8d9",
   "metadata": {},
   "source": [
    "#### Nested Lists"
   ]
  },
  {
   "cell_type": "code",
   "execution_count": null,
   "id": "5b3fe7f6",
   "metadata": {},
   "outputs": [],
   "source": [
    "if __name__ == '__main__':\n",
    "    big_list = []\n",
    "    for _ in range(int(input())):\n",
    "        name = input()\n",
    "        score = float(input())\n",
    "        nested_list = [name, score]\n",
    "        big_list.append(nested_list)\n",
    "    #print(big_list)\n",
    "    \n",
    "    big_list.sort( key = lambda x: (x[1], x[0]))  #sorting by double criteria\n",
    "    #print(big_list)\n",
    "    \n",
    "    lowest = big_list[0][1]\n",
    "    big_list = [x for x in big_list if x[1] != lowest]\n",
    "    #print(big_list)\n",
    "    second_lowest = big_list[0][1]\n",
    "    big_list = [x for x in big_list if x[1] == second_lowest]\n",
    "    #print(big_list)\n",
    "    \n",
    "    for x in big_list:\n",
    "        print(x[0])"
   ]
  },
  {
   "cell_type": "markdown",
   "id": "8cc577be",
   "metadata": {},
   "source": [
    "#### Finding the percentage"
   ]
  },
  {
   "cell_type": "code",
   "execution_count": null,
   "id": "8c81f6a5",
   "metadata": {},
   "outputs": [],
   "source": [
    "if __name__ == '__main__':\n",
    "    n = int(input())\n",
    "    student_marks = {}\n",
    "    \n",
    "    for _ in range(n):\n",
    "        name, *line = input().split()\n",
    "        scores = list(map(float, line))\n",
    "        student_marks[name] = scores\n",
    "    #print(student_marks)\n",
    "    \n",
    "    query_name = input()\n",
    "    average = sum(student_marks[query_name])/len(student_marks[query_name])\n",
    "    \n",
    "    print(\"{:.2f}\".format(average))"
   ]
  },
  {
   "cell_type": "markdown",
   "id": "9b76ead3",
   "metadata": {},
   "source": [
    "#### Find the Runner-Up Score!"
   ]
  },
  {
   "cell_type": "code",
   "execution_count": null,
   "id": "a473ffcd",
   "metadata": {},
   "outputs": [],
   "source": [
    "if __name__ == '__main__':\n",
    "    n = int(input())\n",
    "    arr = map(int, input().split())\n",
    "    scores = [x for x in arr]\n",
    "    \n",
    "    scores = [x for x in scores if x != max(scores)]\n",
    "    print(max(scores))"
   ]
  },
  {
   "cell_type": "markdown",
   "id": "02d77ac0",
   "metadata": {},
   "source": [
    "#### Lists"
   ]
  },
  {
   "cell_type": "code",
   "execution_count": null,
   "id": "0961b18d",
   "metadata": {},
   "outputs": [],
   "source": [
    "if __name__ == '__main__':\n",
    "    \n",
    "    N = int(input())\n",
    "    l = []\n",
    "    \n",
    "    for x in range(N):\n",
    "        query = (input().split())\n",
    "        #print(query, len(query))\n",
    "        \n",
    "        if len(query)==2 and query[0] == \"remove\":\n",
    "            l.remove(int(query[1]))\n",
    "        elif len(query)==2 and query[0] == \"append\":\n",
    "            l.append(int(query[1]))\n",
    "        elif len(query)==3 and query[0] == \"insert\":\n",
    "            l.insert(int(query[1]),int(query[2]))\n",
    "        elif len(query) == 1 and query[0] == \"sort\":\n",
    "            l.sort()\n",
    "        elif len(query) == 1 and query[0] == \"pop\":\n",
    "            l.pop()\n",
    "        elif len(query) == 1 and query[0] == \"reverse\":\n",
    "            l.reverse()\n",
    "        elif len(query) == 1 and query[0] == \"print\":\n",
    "            print(l)"
   ]
  },
  {
   "cell_type": "markdown",
   "id": "bea07d50",
   "metadata": {},
   "source": [
    "## • Strings:"
   ]
  },
  {
   "cell_type": "markdown",
   "id": "16a9a98c",
   "metadata": {},
   "source": [
    "#### sWAP cASE"
   ]
  },
  {
   "cell_type": "code",
   "execution_count": 303,
   "id": "708f9b56",
   "metadata": {},
   "outputs": [
    {
     "name": "stdout",
     "output_type": "stream",
     "text": [
      "HackerRank.com presents \"Pythonist 2\".\n",
      "hACKERrANK.COM PRESENTS \"pYTHONIST 2\".\n"
     ]
    }
   ],
   "source": [
    "def swap_case(s):\n",
    "    s = s.swapcase()\n",
    "    return s\n",
    "\n",
    "if __name__ == '__main__':\n",
    "    s = input()\n",
    "    result = swap_case(s)\n",
    "    print(result)"
   ]
  },
  {
   "cell_type": "markdown",
   "id": "dbef2025",
   "metadata": {},
   "source": [
    "#### What's Your Name?"
   ]
  },
  {
   "cell_type": "code",
   "execution_count": null,
   "id": "ef4265d8",
   "metadata": {},
   "outputs": [],
   "source": [
    "# Complete the 'print_full_name' function below.\n",
    "\n",
    "# The function is expected to return a STRING.\n",
    "# The function accepts following parameters:\n",
    "#  1. STRING first\n",
    "#  2. STRING last\n",
    "\n",
    "def print_full_name(first, last):\n",
    "    # Write your code here\n",
    "    s = \"Hello {} {}! You just delved into python.\".format(first, last)\n",
    "    print(s)\n",
    "\n",
    "if __name__ == '__main__':\n",
    "    first_name = input()\n",
    "    last_name = input()\n",
    "    print_full_name(first_name, last_name)"
   ]
  },
  {
   "cell_type": "markdown",
   "id": "7aa449ab",
   "metadata": {},
   "source": [
    "#### String Split and Join"
   ]
  },
  {
   "cell_type": "code",
   "execution_count": 314,
   "id": "de7ad57f",
   "metadata": {},
   "outputs": [
    {
     "name": "stdout",
     "output_type": "stream",
     "text": [
      "questa è una stringa di prova per vedere se funziona\n",
      "questa-è-una-stringa-di-prova-per-vedere-se-funziona\n"
     ]
    }
   ],
   "source": [
    "def split_and_join(line):\n",
    "    # write your code here\n",
    "    line = line.split(\" \")\n",
    "    line = \"-\".join(line)\n",
    "    return line\n",
    "\n",
    "if __name__ == '__main__':\n",
    "    line = input()\n",
    "    result = split_and_join(line)\n",
    "    print(result)"
   ]
  },
  {
   "cell_type": "markdown",
   "id": "5065ed87",
   "metadata": {},
   "source": [
    "#### Mutations"
   ]
  },
  {
   "cell_type": "code",
   "execution_count": 321,
   "id": "3f2d2b59",
   "metadata": {},
   "outputs": [
    {
     "name": "stdout",
     "output_type": "stream",
     "text": [
      "abracadabra\n",
      "5 K\n",
      "abracKdabra\n"
     ]
    }
   ],
   "source": [
    "def mutate_string(string, position, character):\n",
    "    string = string[:position] + str(character) + string[position+1:]\n",
    "    return string\n",
    "\n",
    "if __name__ == '__main__':\n",
    "    s = input()\n",
    "    i, c = input().split()\n",
    "    s_new = mutate_string(s, int(i), c)\n",
    "    print(s_new)"
   ]
  },
  {
   "cell_type": "markdown",
   "id": "c8b23c26",
   "metadata": {},
   "source": [
    "#### Find a string"
   ]
  },
  {
   "cell_type": "code",
   "execution_count": 82,
   "id": "9e5155ef",
   "metadata": {},
   "outputs": [
    {
     "name": "stdout",
     "output_type": "stream",
     "text": [
      "ABCDCDC\n",
      "CDC\n",
      "2\n"
     ]
    }
   ],
   "source": [
    "def count_substring(string, sub_string):\n",
    "    count = 0\n",
    "    for i in range(0, len(string)):  \n",
    "        if (string[i:i+len(sub_string)]) == sub_string:\n",
    "            count += 1\n",
    "    return count\n",
    "    \n",
    "if __name__ == '__main__':\n",
    "    \n",
    "    string = input().strip()\n",
    "    sub_string = input().strip()\n",
    "    \n",
    "    count = count_substring(string, sub_string)\n",
    "    print(count)"
   ]
  },
  {
   "cell_type": "markdown",
   "id": "6d4afe28",
   "metadata": {},
   "source": [
    "#### Text Wrap"
   ]
  },
  {
   "cell_type": "code",
   "execution_count": null,
   "id": "a3c54d1e",
   "metadata": {},
   "outputs": [],
   "source": [
    "import textwrap\n",
    "\n",
    "def wrap(string, max_width):\n",
    "    blocks = (textwrap.wrap(string, max_width))\n",
    "    blocks = \"\\n\".join(blocks)\n",
    "    return blocks\n",
    "\n",
    "if __name__ == '__main__':\n",
    "    string, max_width = input(), int(input())\n",
    "    result = wrap(string, max_width)\n",
    "    print(result)"
   ]
  },
  {
   "cell_type": "markdown",
   "id": "9d4e3788",
   "metadata": {},
   "source": [
    "#### Text Alignment"
   ]
  },
  {
   "cell_type": "code",
   "execution_count": 1,
   "id": "89fd24ae",
   "metadata": {},
   "outputs": [
    {
     "name": "stdout",
     "output_type": "stream",
     "text": [
      "3\n",
      "  H  \n",
      " HHH \n",
      "HHHHH\n",
      " HHH         HHH        \n",
      " HHH         HHH        \n",
      " HHH         HHH        \n",
      " HHH         HHH        \n",
      " HHHHHHHHHHHHHHH  \n",
      " HHHHHHHHHHHHHHH  \n",
      " HHH         HHH        \n",
      " HHH         HHH        \n",
      " HHH         HHH        \n",
      " HHH         HHH        \n",
      "            HHHHH \n",
      "             HHH  \n",
      "              H   \n"
     ]
    }
   ],
   "source": [
    "#Replace all ______ with rjust, ljust or center. \n",
    "\n",
    "thickness = int(input()) #This must be an odd number\n",
    "c = 'H'\n",
    "\n",
    "#Top Cone\n",
    "for i in range(thickness):\n",
    "    print((c*i).rjust(thickness-1)+c+(c*i).ljust(thickness-1))\n",
    "\n",
    "#Top Pillars\n",
    "for i in range(thickness+1):\n",
    "    print((c*thickness).center(thickness*2)+(c*thickness).center(thickness*6))\n",
    "    \n",
    "#Middle Belt\n",
    "for i in range((thickness+1)//2):\n",
    "    print((c*thickness*5).center(thickness*6))    \n",
    "\n",
    "#Bottom Pillars\n",
    "for i in range(thickness+1):\n",
    "    print((c*thickness).center(thickness*2)+(c*thickness).center(thickness*6))    \n",
    "\n",
    "#Bottom Cone\n",
    "for i in range(thickness):\n",
    "    print(((c*(thickness-i-1)).rjust(thickness)+c+(c*(thickness-i-1)).ljust(thickness)).rjust(thickness*6))\n",
    "    "
   ]
  },
  {
   "cell_type": "markdown",
   "id": "7e06e1cd",
   "metadata": {},
   "source": [
    "#### String Validators:"
   ]
  },
  {
   "cell_type": "code",
   "execution_count": null,
   "id": "f0104f3f",
   "metadata": {},
   "outputs": [],
   "source": [
    "if __name__ == '__main__':      # I have looked how to use any() on https://realpython.com/any-python\n",
    "    s = input()\n",
    "    if any(map(str.isalnum, s)) == True:\n",
    "        print(\"True\")\n",
    "    else:\n",
    "        print(\"False\")\n",
    "    if any(map(str.isalpha, s)) == True:\n",
    "        print(\"True\")\n",
    "    else:\n",
    "        print(\"False\")\n",
    "    if any(map(str.isdigit, s)) == True:\n",
    "        print(\"True\")\n",
    "    else:\n",
    "        print(\"False\")\n",
    "    if any(map(str.islower, s)) == True:\n",
    "        print(\"True\")\n",
    "    else:\n",
    "        print(\"False\")\n",
    "    if any(map(str.isupper, s)) == True:\n",
    "        print(\"True\")\n",
    "    else:\n",
    "        print(\"False\")       "
   ]
  },
  {
   "cell_type": "markdown",
   "id": "aabcad5a",
   "metadata": {},
   "source": [
    "#### Designer Door Mat"
   ]
  },
  {
   "cell_type": "code",
   "execution_count": 93,
   "id": "59876e75",
   "metadata": {},
   "outputs": [
    {
     "name": "stdout",
     "output_type": "stream",
     "text": [
      "13 39\n"
     ]
    }
   ],
   "source": [
    "N,M = map(int,input().split())\n",
    "block = \".|.\""
   ]
  },
  {
   "cell_type": "code",
   "execution_count": 94,
   "id": "c15c4575",
   "metadata": {},
   "outputs": [
    {
     "name": "stdout",
     "output_type": "stream",
     "text": [
      "------------------.|.------------------\n",
      "---------------.|..|..|.---------------\n",
      "------------.|..|..|..|..|.------------\n",
      "---------.|..|..|..|..|..|..|.---------\n",
      "------.|..|..|..|..|..|..|..|..|.------\n",
      "---.|..|..|..|..|..|..|..|..|..|..|.---\n",
      "----------------WELCOME----------------\n",
      "---.|..|..|..|..|..|..|..|..|..|..|.---\n",
      "------.|..|..|..|..|..|..|..|..|.------\n",
      "---------.|..|..|..|..|..|..|.---------\n",
      "------------.|..|..|..|..|.------------\n",
      "---------------.|..|..|.---------------\n",
      "------------------.|.------------------\n"
     ]
    }
   ],
   "source": [
    "for i in range(N//2):\n",
    "    print(((2*i+1)*block).center(M,'-'))\n",
    "    \n",
    "print('WELCOME'.center(M,'-'))\n",
    "\n",
    "for i in range((N//2)):\n",
    "    print((((N-2)-(2*i))*block).center(M,'-'))"
   ]
  },
  {
   "cell_type": "markdown",
   "id": "bfa25fa7",
   "metadata": {},
   "source": [
    "#### String Formatting"
   ]
  },
  {
   "cell_type": "code",
   "execution_count": null,
   "id": "30c1d38a",
   "metadata": {},
   "outputs": [],
   "source": [
    "def print_formatted(number):\n",
    "    # your code goes here\n",
    "    for x in range(1, n+1):\n",
    "        print(str(x).rjust(space, \" \"), \n",
    "          oct(x)[2:].rjust(space, \" \"), \n",
    "          hex(x)[2:].rjust(space, \" \").upper(), \n",
    "          bin(x)[2:].rjust(space, \" \"))\n",
    "    \n",
    "if __name__ == '__main__':\n",
    "    n = int(input())\n",
    "    print_formatted(n)"
   ]
  },
  {
   "cell_type": "markdown",
   "id": "f16e63ff",
   "metadata": {},
   "source": [
    "#### Capitalize!"
   ]
  },
  {
   "cell_type": "code",
   "execution_count": 227,
   "id": "49f46079",
   "metadata": {},
   "outputs": [
    {
     "data": {
      "text/plain": [
       "'Chris Alan'"
      ]
     },
     "execution_count": 227,
     "metadata": {},
     "output_type": "execute_result"
    }
   ],
   "source": [
    "def solve(s):\n",
    "    parts = list(s)\n",
    "    #print(parts)\n",
    "    for i in range(len(parts)):\n",
    "        if parts[i] == \" \":\n",
    "            parts[i+1] = parts[i+1].upper() #maiuscola dopo lo spazio\n",
    "    parts[0] = parts[0].upper()\n",
    "    #print(parts)\n",
    "    name = \"\".join(parts)\n",
    "    #print(name)\n",
    "    return name\n",
    "\n",
    "solve(\"chris alan\")"
   ]
  },
  {
   "cell_type": "code",
   "execution_count": null,
   "id": "7f40deb9",
   "metadata": {},
   "outputs": [],
   "source": []
  },
  {
   "cell_type": "code",
   "execution_count": null,
   "id": "92146580",
   "metadata": {},
   "outputs": [],
   "source": []
  },
  {
   "cell_type": "markdown",
   "id": "87491537",
   "metadata": {},
   "source": [
    "## • Sets:"
   ]
  },
  {
   "cell_type": "markdown",
   "id": "ec6503a0",
   "metadata": {},
   "source": [
    "#### Introduction to Sets"
   ]
  },
  {
   "cell_type": "code",
   "execution_count": null,
   "id": "1d1d231e",
   "metadata": {},
   "outputs": [],
   "source": [
    "def average(array):\n",
    "    # your code goes here\n",
    "    array = set(array)\n",
    "    result = sum(array)/len(array)\n",
    "    return result\n",
    "\n",
    "if __name__ == '__main__':\n",
    "    n = int(input())\n",
    "    arr = list(map(int, input().split()))\n",
    "    result = average(arr)\n",
    "    print(result)"
   ]
  },
  {
   "cell_type": "markdown",
   "id": "53bedbcd",
   "metadata": {},
   "source": [
    "#### Set . add ( )"
   ]
  },
  {
   "cell_type": "code",
   "execution_count": null,
   "id": "10b9531b",
   "metadata": {},
   "outputs": [],
   "source": [
    "arr = set()\n",
    "n = int(input())\n",
    "for i in range(n):\n",
    "    country = str(input())\n",
    "    arr.add(country)\n",
    "print(len(arr))"
   ]
  },
  {
   "cell_type": "markdown",
   "id": "0bcbbc8d",
   "metadata": {},
   "source": [
    "#### Symmetric Difference"
   ]
  },
  {
   "cell_type": "code",
   "execution_count": null,
   "id": "5831f00b",
   "metadata": {},
   "outputs": [],
   "source": [
    "M = int(input())\n",
    "arr_M = set(map(int, input().split()))\n",
    "\n",
    "N = int(input())\n",
    "arr_N = set(map(int, input().split()))\n",
    "\n",
    "result = sorted ( arr_N.union(arr_M) - arr_N.intersection(arr_M) )\n",
    "\n",
    "print(*result, sep=\"\\n\")"
   ]
  },
  {
   "cell_type": "markdown",
   "id": "77e7dd7c",
   "metadata": {},
   "source": [
    "#### Set . union ( ) Operation"
   ]
  },
  {
   "cell_type": "code",
   "execution_count": null,
   "id": "8b38d808",
   "metadata": {},
   "outputs": [],
   "source": [
    "n = int(input())\n",
    "arr_english = set(map(int, input().split()))\n",
    "\n",
    "b = int(input())\n",
    "arr_french = set(map(int, input().split()))\n",
    "\n",
    "result = arr_english.union(arr_french)\n",
    "print(len(result))"
   ]
  },
  {
   "cell_type": "markdown",
   "id": "511c318b",
   "metadata": {},
   "source": [
    "#### Set . intersection ( ) Operation"
   ]
  },
  {
   "cell_type": "code",
   "execution_count": null,
   "id": "17675d0d",
   "metadata": {},
   "outputs": [],
   "source": [
    "n = int(input())\n",
    "arr_english = set(map(int, input().split()))\n",
    "\n",
    "b = int(input())\n",
    "arr_french = set(map(int, input().split()))\n",
    "\n",
    "result = arr_english.intersection(arr_french)\n",
    "print(len(result))"
   ]
  },
  {
   "cell_type": "markdown",
   "id": "d6b706eb",
   "metadata": {},
   "source": [
    "#### Set . difference ( ) Operation"
   ]
  },
  {
   "cell_type": "code",
   "execution_count": null,
   "id": "89d12a4e",
   "metadata": {},
   "outputs": [],
   "source": [
    "n = int(input())\n",
    "arr_english = set(map(int, input().split()))\n",
    "\n",
    "b = int(input())\n",
    "arr_french = set(map(int, input().split()))\n",
    "\n",
    "result = arr_english.difference(arr_french)\n",
    "print(len(result))"
   ]
  },
  {
   "cell_type": "markdown",
   "id": "2830e91e",
   "metadata": {},
   "source": [
    "#### Set . symmetric_difference ( ) Operation"
   ]
  },
  {
   "cell_type": "code",
   "execution_count": null,
   "id": "e1e7e636",
   "metadata": {},
   "outputs": [],
   "source": [
    "n = int(input())\n",
    "arr_english = set(map(int, input().split()))\n",
    "\n",
    "b = int(input())\n",
    "arr_french = set(map(int, input().split()))\n",
    "\n",
    "result = arr_english.symmetric_difference(arr_french)\n",
    "print(len(result))"
   ]
  },
  {
   "cell_type": "markdown",
   "id": "17e72768",
   "metadata": {},
   "source": [
    "#### Set .discard( ), .remove( ) & .pop( )"
   ]
  },
  {
   "cell_type": "code",
   "execution_count": null,
   "id": "f2f51473",
   "metadata": {},
   "outputs": [],
   "source": [
    "n = int(input())\n",
    "s = set(map(int, input().split()))\n",
    "\n",
    "N = int(input())\n",
    "\n",
    "for x in range(N):\n",
    "    query = (input().split())\n",
    "    #print(query, len(query))\n",
    "    if len(query)==2 and query[0] == \"remove\":\n",
    "        s.remove(int(query[1]))\n",
    "    elif len(query)==2 and query[0] == \"discard\":\n",
    "        s.discard(int(query[1]))\n",
    "    elif len(query) == 1:\n",
    "        s.pop()\n",
    "        \n",
    "print(sum(s))"
   ]
  },
  {
   "cell_type": "markdown",
   "id": "e52cfc63",
   "metadata": {},
   "source": [
    "#### Set Mutations"
   ]
  },
  {
   "cell_type": "code",
   "execution_count": null,
   "id": "b515708f",
   "metadata": {},
   "outputs": [],
   "source": [
    "lenght_A = int(input())\n",
    "A = set(map(int, input().split()))\n",
    "N = int(input())\n",
    "\n",
    "for i in range(N):\n",
    "    query = (input().split())\n",
    "    other_set = set(map(int, input().split()))\n",
    "    if query[0] == \"update\":\n",
    "        A.update(other_set)\n",
    "        #print(\"Set A = \", A , sum(A))\n",
    "    if query[0] == \"intersection_update\":\n",
    "        A.intersection_update(other_set)\n",
    "        #print(\"Set A = \", A, sum(A))\n",
    "    if query[0] == \"difference_update\":\n",
    "        A.difference_update(other_set)\n",
    "        #print(\"Set A = \", A, sum(A))\n",
    "    if query[0] == \"symmetric_difference_update\":\n",
    "        A.symmetric_difference_update(other_set)\n",
    "        #print(\"Set A = \", A, sum(A))\n",
    "        \n",
    "print(sum(A))\n",
    "    "
   ]
  },
  {
   "cell_type": "markdown",
   "id": "184ef2b0",
   "metadata": {},
   "source": [
    "#### Check Subset"
   ]
  },
  {
   "cell_type": "code",
   "execution_count": null,
   "id": "a4d809ae",
   "metadata": {},
   "outputs": [],
   "source": [
    "test_cases = int(input())\n",
    "for x in range(test_cases):\n",
    "    \n",
    "    lenght_A = int(input())\n",
    "    A = set(map(int, input().split()))\n",
    "    lenght_B = int(input())\n",
    "    B = set(map(int, input().split()))\n",
    "    \n",
    "    print(A.issubset(B))"
   ]
  },
  {
   "cell_type": "markdown",
   "id": "f47bdb30",
   "metadata": {},
   "source": [
    "#### Check Strict Superset"
   ]
  },
  {
   "cell_type": "code",
   "execution_count": null,
   "id": "78dff95d",
   "metadata": {},
   "outputs": [],
   "source": [
    "A = set(map(int, input().split()))\n",
    "n = int(input())\n",
    "s_tot = set ()\n",
    "for x in range(n):\n",
    "    other_set = set(map(int, input().split()))\n",
    "    s_tot = s_tot.union(other_set)\n",
    "print(A.issuperset(s_tot))"
   ]
  },
  {
   "cell_type": "markdown",
   "id": "313d7407",
   "metadata": {},
   "source": [
    "#### The Captain's Room"
   ]
  },
  {
   "cell_type": "code",
   "execution_count": 186,
   "id": "2cca6ca9",
   "metadata": {},
   "outputs": [
    {
     "name": "stdout",
     "output_type": "stream",
     "text": [
      "5\n",
      "1 2 3 6 5 4 4 2 5 3 6 1 6 5 3 2 4 1 2 5 1 4 3 6 8 4 3 1 5 6 2 \n",
      "[1, 1, 1, 1, 1, 2, 2, 2, 2, 2, 3, 3, 3, 3, 3, 4, 4, 4, 4, 4, 5, 5, 5, 5, 5, 6, 6, 6, 6, 6, 8]\n"
     ]
    }
   ],
   "source": [
    "k = int(input())\n",
    "room_number_list = sorted ( list(map(int, input().split())) )\n",
    "#print(room_number_list)"
   ]
  },
  {
   "cell_type": "code",
   "execution_count": 188,
   "id": "e882b7d5",
   "metadata": {},
   "outputs": [
    {
     "name": "stdout",
     "output_type": "stream",
     "text": [
      "8\n"
     ]
    }
   ],
   "source": [
    "for i in range(len(room_number_list)):\n",
    "    if i != len(room_number_list)-1:\n",
    "        if room_number_list[i] != room_number_list[i+1] and room_number_list[i] != room_number_list[i-1]:\n",
    "            print(room_number_list[i])\n",
    "            \n",
    "    else:\n",
    "        print(room_number_list[i])"
   ]
  },
  {
   "cell_type": "code",
   "execution_count": null,
   "id": "c6210906",
   "metadata": {},
   "outputs": [],
   "source": []
  },
  {
   "cell_type": "markdown",
   "id": "b6532b95",
   "metadata": {},
   "source": [
    "## • Collections:"
   ]
  },
  {
   "cell_type": "markdown",
   "id": "27fccf51",
   "metadata": {},
   "source": [
    "#### collections.Counter ( )"
   ]
  },
  {
   "cell_type": "code",
   "execution_count": null,
   "id": "637580bf",
   "metadata": {},
   "outputs": [],
   "source": [
    "# with Counter\n",
    "from collections import Counter\n",
    "\n",
    "n_shoes = int(input())\n",
    "shoes =  list(map(int, input().split()))\n",
    "n_costumers = int(input())\n",
    "profit = 0\n",
    "\n",
    "c = Counter(shoes)\n",
    "\n",
    "for x in range(n_costumers):\n",
    "    request = (input().split())\n",
    "    \n",
    "    if int(request[0]) in c.keys() and c[int(request[0])] > 0 :\n",
    "        profit += int(request[1])\n",
    "        c[int(request[0])] -= 1\n",
    "        \n",
    "print(profit)  "
   ]
  },
  {
   "cell_type": "code",
   "execution_count": null,
   "id": "53e284a2",
   "metadata": {},
   "outputs": [],
   "source": [
    "# without Counter\n",
    "\n",
    "n_shoes = int(input())\n",
    "shoes =  list(map(int, input().split()))\n",
    "n_costumers = int(input())\n",
    "profit = 0\n",
    "for x in range(n_costumers):\n",
    "    request = (input().split())\n",
    "    \n",
    "    if int(request[0]) in shoes:\n",
    "        profit += int(request[1])\n",
    "        shoes.remove(int(request[0]))\n",
    "        \n",
    "print(profit)"
   ]
  },
  {
   "cell_type": "markdown",
   "id": "ffbd9779",
   "metadata": {},
   "source": [
    "#### Collections .namedtuple( )"
   ]
  },
  {
   "cell_type": "code",
   "execution_count": null,
   "id": "482168e0",
   "metadata": {},
   "outputs": [],
   "source": [
    "from collections import namedtuple\n",
    "\n",
    "N = int(input())\n",
    "data = namedtuple('data',input())\n",
    "marks_list = []\n",
    "for i in range(N):\n",
    "    marks = int(data(*input().split()).MARKS)\n",
    "    marks_list.append(marks)\n",
    "\n",
    "result = sum(marks_list)/N\n",
    "print(result)"
   ]
  },
  {
   "cell_type": "markdown",
   "id": "f178659f",
   "metadata": {},
   "source": [
    "#### Collections .OrderedDict( )"
   ]
  },
  {
   "cell_type": "code",
   "execution_count": null,
   "id": "c2cada0b",
   "metadata": {},
   "outputs": [],
   "source": [
    "from collections import OrderedDict\n",
    "\n",
    "N = int(input())\n",
    "ordered_dictionary = OrderedDict()\n",
    "for x in range(N):\n",
    "    elenco = input().rsplit(' ', 1)\n",
    "    if elenco [0] in ordered_dictionary:\n",
    "        ordered_dictionary[elenco[0]] += int(elenco[1])\n",
    "    else:\n",
    "        ordered_dictionary[elenco[0]] = int(elenco[1])\n",
    "        \n",
    "for i in ordered_dictionary:\n",
    "    print (i, ordered_dictionary[i])"
   ]
  },
  {
   "cell_type": "markdown",
   "id": "7f00777d",
   "metadata": {},
   "source": [
    "#### Collections .deque( )"
   ]
  },
  {
   "cell_type": "code",
   "execution_count": null,
   "id": "bfaac6da",
   "metadata": {},
   "outputs": [],
   "source": [
    "from collections import deque\n",
    "\n",
    "N = int(input())\n",
    "d = deque()\n",
    "\n",
    "for x in range(N):\n",
    "    query = (input().split())\n",
    "        #print(query, len(query))\n",
    "        \n",
    "    if query[0] == \"append\":\n",
    "        d.append(int(query[1]))\n",
    "            \n",
    "    elif query[0] == \"appendleft\":\n",
    "        d.appendleft(int(query[1]))\n",
    "            \n",
    "    elif query[0] == \"pop\":\n",
    "        d.pop()\n",
    "                \n",
    "    elif query[0] == \"popleft\":\n",
    "        d.popleft()\n",
    "print(*d)"
   ]
  },
  {
   "cell_type": "markdown",
   "id": "105f1891",
   "metadata": {},
   "source": [
    "#### DefaultDict Tutorial"
   ]
  },
  {
   "cell_type": "code",
   "execution_count": null,
   "id": "db9e2fc2",
   "metadata": {},
   "outputs": [],
   "source": [
    "from collections import defaultdict\n",
    "\n",
    "d = defaultdict(list)\n",
    "n, m = map(int,input().split())\n",
    "\n",
    "for i in range(1, n+1):\n",
    "    insert = str(input())\n",
    "    \n",
    "    d[insert].append(str(i))\n",
    "\n",
    "\n",
    "for i in range(m):\n",
    "    b = input()\n",
    "    \n",
    "    if b in d: \n",
    "        print(' '.join(d[b]))\n",
    "    else: \n",
    "        print(-1)"
   ]
  },
  {
   "cell_type": "code",
   "execution_count": null,
   "id": "d5922934",
   "metadata": {},
   "outputs": [],
   "source": []
  },
  {
   "cell_type": "markdown",
   "id": "e4d52dd3",
   "metadata": {},
   "source": [
    "## • Date and Time:"
   ]
  },
  {
   "cell_type": "markdown",
   "id": "ccd3bef0",
   "metadata": {},
   "source": [
    "#### Calendar Module"
   ]
  },
  {
   "cell_type": "code",
   "execution_count": 51,
   "id": "c0678d60",
   "metadata": {},
   "outputs": [
    {
     "name": "stdout",
     "output_type": "stream",
     "text": [
      "08 05 2015\n",
      "WEDNESDAY\n"
     ]
    }
   ],
   "source": [
    "from datetime import date\n",
    "import calendar\n",
    "\n",
    "data = input()\n",
    "data = datetime.strptime(data, '%m %d %Y')\n",
    "\n",
    "print ( calendar.day_name[data.weekday()].upper() )"
   ]
  },
  {
   "cell_type": "code",
   "execution_count": 58,
   "id": "1a0ebe82",
   "metadata": {},
   "outputs": [
    {
     "name": "stdout",
     "output_type": "stream",
     "text": [
      "08 05 2015\n",
      "WEDNESDAY\n"
     ]
    }
   ],
   "source": [
    "import calendar\n",
    "MM, DD, YYYY = map(int, input().split())\n",
    "print ( (calendar.day_name)[calendar.weekday(YYYY, MM, DD)].upper())"
   ]
  },
  {
   "cell_type": "markdown",
   "id": "b52a62c4",
   "metadata": {},
   "source": [
    "#### Time Delta"
   ]
  },
  {
   "cell_type": "code",
   "execution_count": null,
   "id": "7b8bad2f",
   "metadata": {},
   "outputs": [],
   "source": [
    "from datetime import datetime\n",
    "\n",
    "# Complete the time_delta function below.\n",
    "\n",
    "def time_delta(t1, t2):\n",
    "    converter = \"%a %d %b %Y %H:%M:%S %z\"\n",
    "    time1 = datetime.strptime (t1, converter)\n",
    "    time2 = datetime.strptime (t2, converter)\n",
    "    result = abs(time1-time2).total_seconds()\n",
    "    return result\n",
    "    \n",
    "    \n",
    "if __name__ == '__main__':\n",
    "    t = int(input())\n",
    "\n",
    "    for t_itr in range(t):\n",
    "        t1 = input()\n",
    "        t2 = input()\n",
    "        delta = time_delta(t1, t2)\n",
    "        \n",
    "        print(int(delta))\n"
   ]
  },
  {
   "cell_type": "markdown",
   "id": "f6e54780",
   "metadata": {},
   "source": [
    "## • Errors and Exceptions:"
   ]
  },
  {
   "cell_type": "markdown",
   "id": "f27373ba",
   "metadata": {},
   "source": [
    "#### Exceptions"
   ]
  },
  {
   "cell_type": "code",
   "execution_count": null,
   "id": "63e04557",
   "metadata": {},
   "outputs": [],
   "source": [
    "T = int(input())\n",
    "\n",
    "for x in range(T):\n",
    "    try:\n",
    "        a, b  = map(int, input().split())\n",
    "        print(a//b)\n",
    "        \n",
    "    except (ValueError, ZeroDivisionError) as e:\n",
    "        print (\"Error Code:\", e)"
   ]
  },
  {
   "cell_type": "markdown",
   "id": "f9151bed",
   "metadata": {},
   "source": [
    "## • Built-ins:"
   ]
  },
  {
   "cell_type": "markdown",
   "id": "fc8a255b",
   "metadata": {},
   "source": [
    "#### Zipped!"
   ]
  },
  {
   "cell_type": "code",
   "execution_count": null,
   "id": "98c13804",
   "metadata": {},
   "outputs": [],
   "source": [
    "N, X = map(int, input().split())\n",
    "marks_list = []\n",
    "\n",
    "for i in range(X):\n",
    "    marks = list(map(float, input().split()))\n",
    "    marks_list.append(marks)\n",
    "    \n",
    "result = [sum(i)/len(i) for i in zip(*marks_list)]\n",
    "print(*result, sep=\"\\n\")"
   ]
  },
  {
   "cell_type": "markdown",
   "id": "596a8010",
   "metadata": {},
   "source": [
    "#### ginortS"
   ]
  },
  {
   "cell_type": "code",
   "execution_count": 278,
   "id": "6f354bda",
   "metadata": {},
   "outputs": [
    {
     "name": "stdout",
     "output_type": "stream",
     "text": [
      "Sorting1234\n"
     ]
    }
   ],
   "source": [
    "s = str(input())\n",
    "\n",
    "digits_dispari = []\n",
    "digits_pari = []\n",
    "lower= []\n",
    "upper = []"
   ]
  },
  {
   "cell_type": "code",
   "execution_count": 279,
   "id": "1495ad8d",
   "metadata": {},
   "outputs": [
    {
     "name": "stdout",
     "output_type": "stream",
     "text": [
      "ginortS1324\n"
     ]
    }
   ],
   "source": [
    "for i in range(len(s)):\n",
    "\n",
    "    if s[i].isdigit() and int(s[i])%2 == 0:\n",
    "        digits_pari.append(s[i])\n",
    "    elif s[i].isdigit() and int(s[i])%2 != 0:\n",
    "        digits_dispari.append(s[i])\n",
    "    elif s[i].isupper():\n",
    "        upper.append(s[i])\n",
    "    elif s[i].islower():\n",
    "        lower.append(s[i])\n",
    "\n",
    "result = sorted(lower) + sorted(upper) + sorted(digits_dispari) +sorted(digits_pari)\n",
    "result = ''.join(result)\n",
    "print(result)"
   ]
  },
  {
   "cell_type": "markdown",
   "id": "f4fc8a9a",
   "metadata": {},
   "source": [
    "#### Athlete Sort"
   ]
  },
  {
   "cell_type": "code",
   "execution_count": null,
   "id": "85eb38d0",
   "metadata": {},
   "outputs": [],
   "source": [
    "\n",
    "if __name__ == '__main__':\n",
    "    \n",
    "    first_multiple_input = input().rstrip().split()\n",
    "\n",
    "    n, m = int(first_multiple_input[0]), int(first_multiple_input[1])\n",
    "\n",
    "    arr = []\n",
    "\n",
    "    for _ in range(n):\n",
    "        arr.append(list(map(int, input().rstrip().split())))\n",
    "        \n",
    "    #print(*arr)\n",
    "    k = int(input().strip())\n",
    "\n",
    "    result = (sorted(arr, key = lambda x: x[k]))\n",
    "    for x in result:\n",
    "        print(*x)"
   ]
  },
  {
   "cell_type": "code",
   "execution_count": null,
   "id": "b006e3db",
   "metadata": {},
   "outputs": [],
   "source": []
  },
  {
   "cell_type": "markdown",
   "id": "d0ed34b6",
   "metadata": {},
   "source": [
    "## • XML:"
   ]
  },
  {
   "cell_type": "markdown",
   "id": "2bcfcf7f",
   "metadata": {},
   "source": [
    "#### XML 1 - Find the Score:"
   ]
  },
  {
   "cell_type": "code",
   "execution_count": 61,
   "id": "1d1db2e6",
   "metadata": {},
   "outputs": [],
   "source": [
    "def get_attr_number(node):\n",
    "    \n",
    "    # your code goes here\n",
    "    \n",
    "    result = 0\n",
    "    for x in node.iter():\n",
    "        #print(x)\n",
    "        #print(x.attrib)\n",
    "        result += len(x.attrib)\n",
    "        \n",
    "    return result"
   ]
  },
  {
   "cell_type": "markdown",
   "id": "4a21271d",
   "metadata": {},
   "source": [
    "#### XML 2 - Find the Maximum Depth:"
   ]
  },
  {
   "cell_type": "code",
   "execution_count": 66,
   "id": "b0f2a8e3",
   "metadata": {},
   "outputs": [],
   "source": [
    "maxdepth = 0\n",
    "\n",
    "def depth(elem, level):\n",
    "    global maxdepth\n",
    "    # your code goes here\n",
    "    \n",
    "    if level == maxdepth :\n",
    "        maxdepth += 1\n",
    "    for i in elem:\n",
    "        depth(i, level+1)\n",
    "    \n",
    "### Solution understood thanks to YouTube"
   ]
  },
  {
   "cell_type": "code",
   "execution_count": null,
   "id": "4b28cca7",
   "metadata": {},
   "outputs": [],
   "source": []
  },
  {
   "cell_type": "markdown",
   "id": "20094fb9",
   "metadata": {},
   "source": [
    "## • Closures and Decorations :"
   ]
  },
  {
   "cell_type": "markdown",
   "id": "7f1dfd56",
   "metadata": {},
   "source": [
    "#### Standardize Mobile Number Using Decorators"
   ]
  },
  {
   "cell_type": "code",
   "execution_count": null,
   "id": "151615e3",
   "metadata": {},
   "outputs": [],
   "source": [
    "def wrapper(f):\n",
    "    def fun(l):\n",
    "        # complete the function\n",
    "        \n",
    "        for i in range(len(l)):\n",
    "            prefix = \"+91 \"\n",
    "            if len(l[i]) != 10:\n",
    "                l[i] = l[i][-10:]\n",
    "\n",
    "            block2 = l[i][-5:]\n",
    "            block1 = l[i][:-5]\n",
    "            l[i] = prefix + block1 + \" \" + block2\n",
    "        print(*sorted(l), sep=\"\\n\")\n",
    "    return fun\n",
    "\n",
    "@wrapper\n",
    "def sort_phone(l):\n",
    "    print(*sorted(l), sep='\\n')\n",
    "\n",
    "if __name__ == '__main__':\n",
    "    l = [input() for _ in range(int(input()))]\n",
    "    sort_phone(l) "
   ]
  },
  {
   "cell_type": "markdown",
   "id": "99b7b531",
   "metadata": {},
   "source": [
    "#### Decorators 2 - Name Directory"
   ]
  },
  {
   "cell_type": "code",
   "execution_count": 346,
   "id": "654c3c35",
   "metadata": {},
   "outputs": [
    {
     "name": "stdout",
     "output_type": "stream",
     "text": [
      "3\n",
      "Andria Bustle 30 F\n",
      "Robert Bustle 32 M\n",
      "Mike Thomson 20 M\n",
      "Mr. Mike Thomson\n",
      "Ms. Andria Bustle\n",
      "Mr. Robert Bustle\n"
     ]
    }
   ],
   "source": [
    "import operator\n",
    "\n",
    "def person_lister(f):\n",
    "    def inner(people):\n",
    "        # complete the function\n",
    "        result = map(f, sorted(people, key=lambda x: int(x[2])))\n",
    "        return result\n",
    "        \n",
    "    return inner\n",
    "\n",
    "@person_lister\n",
    "def name_format(person):\n",
    "    return (\"Mr. \" if person[3] == \"M\" else \"Ms. \") + person[0] + \" \" + person[1]\n",
    "\n",
    "if __name__ == '__main__':\n",
    "    people = [input().split() for i in range(int(input()))]\n",
    "    print(*name_format(people), sep='\\n')"
   ]
  },
  {
   "cell_type": "code",
   "execution_count": null,
   "id": "b9bfc54a",
   "metadata": {},
   "outputs": [],
   "source": []
  },
  {
   "cell_type": "markdown",
   "id": "965c063a",
   "metadata": {},
   "source": [
    "## • Python Functionals :"
   ]
  },
  {
   "cell_type": "markdown",
   "id": "0cb2a72c",
   "metadata": {},
   "source": [
    "#### Map and Lambda Function:"
   ]
  },
  {
   "cell_type": "code",
   "execution_count": 163,
   "id": "2ae6a472",
   "metadata": {},
   "outputs": [
    {
     "name": "stdout",
     "output_type": "stream",
     "text": [
      "5\n",
      "[0, 1, 1, 8, 27]\n"
     ]
    }
   ],
   "source": [
    "cube  = lambda x: x**3 # complete the lambda function \n",
    "\n",
    "def fibonacci(n):\n",
    "    fib = [0,1]\n",
    "    if n == 0:\n",
    "        fib = []\n",
    "    elif n == 1:\n",
    "        fib.pop()\n",
    "    else:\n",
    "        for i in range(2, n):\n",
    "            fib.append(fib[i-1] + fib[i-2] )\n",
    "    return fib\n",
    "\n",
    "if __name__ == '__main__':\n",
    "    n = int(input())\n",
    "    print(list(map(cube, fibonacci(n))))"
   ]
  },
  {
   "cell_type": "code",
   "execution_count": null,
   "id": "10a30094",
   "metadata": {},
   "outputs": [],
   "source": []
  },
  {
   "cell_type": "markdown",
   "id": "a2679df7",
   "metadata": {},
   "source": [
    "## • Numpy :"
   ]
  },
  {
   "cell_type": "markdown",
   "id": "bf3d3c83",
   "metadata": {},
   "source": [
    "#### Arrays"
   ]
  },
  {
   "cell_type": "code",
   "execution_count": 1,
   "id": "5820c311",
   "metadata": {},
   "outputs": [
    {
     "name": "stdout",
     "output_type": "stream",
     "text": [
      "1 2 3 4 -8 -10\n",
      "[-10.  -8.   4.   3.   2.   1.]\n"
     ]
    }
   ],
   "source": [
    "import numpy\n",
    "\n",
    "def arrays(arr):\n",
    "    # complete this function\n",
    "    arr = numpy.array(arr,float)\n",
    "    reversed_arr = arr[::-1]\n",
    "    #print (b)\n",
    "    return reversed_arr\n",
    "    # use numpy.array\n",
    "\n",
    "arr = input().strip().split(' ')\n",
    "result = arrays(arr)\n",
    "print(result)"
   ]
  },
  {
   "cell_type": "markdown",
   "id": "9afe2043",
   "metadata": {},
   "source": [
    "#### Shape and Reshape"
   ]
  },
  {
   "cell_type": "code",
   "execution_count": 3,
   "id": "d0fe24a1",
   "metadata": {},
   "outputs": [
    {
     "name": "stdout",
     "output_type": "stream",
     "text": [
      "1 2 3 4 5 6 7 8 9\n",
      "[[1 2 3]\n",
      " [4 5 6]\n",
      " [7 8 9]]\n"
     ]
    }
   ],
   "source": [
    "arr = input().strip().split(' ')\n",
    "arr = numpy.array(arr, int)\n",
    "reshaped = numpy.reshape(arr,(3,3))\n",
    "print (reshaped)"
   ]
  },
  {
   "cell_type": "markdown",
   "id": "e4c80e19",
   "metadata": {},
   "source": [
    "#### Concatenate"
   ]
  },
  {
   "cell_type": "code",
   "execution_count": null,
   "id": "951a6ed8",
   "metadata": {},
   "outputs": [],
   "source": [
    "#import numpy\n",
    "\n",
    "N, M, P = map(int,input().split())\n",
    "\n",
    "arr_n = [(input().split()) for i in range(N)]\n",
    "np_n = numpy.array(arr_n, int)\n",
    "arr_m = [input().split() for i in range(M)]\n",
    "np_m = numpy.array(arr_m, int)\n",
    "tot_arr = numpy.concatenate((np_n, np_m), axis = 0)\n",
    "print(tot_arr)"
   ]
  },
  {
   "cell_type": "markdown",
   "id": "61aa8b2f",
   "metadata": {},
   "source": [
    "#### Transpose and Flatten"
   ]
  },
  {
   "cell_type": "code",
   "execution_count": 122,
   "id": "439ccc56",
   "metadata": {},
   "outputs": [
    {
     "name": "stdout",
     "output_type": "stream",
     "text": [
      "2 2\n",
      "1 2\n",
      "3 4\n",
      "[[1 3]\n",
      " [2 4]]\n",
      "[1 2 3 4]\n"
     ]
    }
   ],
   "source": [
    "N, M = map(int,input().split())\n",
    "arr_n = numpy.array( [input().split() for i in range(N)], int)\n",
    "\n",
    "print (numpy.transpose(arr_n))\n",
    "print(arr_n.flatten())"
   ]
  },
  {
   "cell_type": "markdown",
   "id": "64b59c28",
   "metadata": {},
   "source": [
    "#### Zeros and Ones"
   ]
  },
  {
   "cell_type": "code",
   "execution_count": 137,
   "id": "57cb24c9",
   "metadata": {},
   "outputs": [
    {
     "name": "stdout",
     "output_type": "stream",
     "text": [
      "3 3 3\n"
     ]
    }
   ],
   "source": [
    "dimensions = tuple(map(int,input().split()))\n",
    "\n",
    "print (numpy.zeros((dimensions),dtype = int))  \n",
    "print (numpy.ones((dimensions),dtype = int))  "
   ]
  },
  {
   "cell_type": "markdown",
   "id": "de7e4e86",
   "metadata": {},
   "source": [
    "#### Eye and Identity"
   ]
  },
  {
   "cell_type": "code",
   "execution_count": 158,
   "id": "6e8c0da7",
   "metadata": {},
   "outputs": [
    {
     "name": "stdout",
     "output_type": "stream",
     "text": [
      "5 7\n",
      "[[ 1.  0.  0.  0.  0.  0.  0.]\n",
      " [ 0.  1.  0.  0.  0.  0.  0.]\n",
      " [ 0.  0.  1.  0.  0.  0.  0.]\n",
      " [ 0.  0.  0.  1.  0.  0.  0.]\n",
      " [ 0.  0.  0.  0.  1.  0.  0.]]\n"
     ]
    }
   ],
   "source": [
    "numpy.set_printoptions(legacy = \"1.13\")\n",
    "\n",
    "n, m = map(int,input().split())\n",
    "\n",
    "print(numpy.eye(n, m, k = 0))"
   ]
  },
  {
   "cell_type": "markdown",
   "id": "93de1545",
   "metadata": {},
   "source": [
    "#### Dot and Cross"
   ]
  },
  {
   "cell_type": "code",
   "execution_count": null,
   "id": "97830c04",
   "metadata": {},
   "outputs": [],
   "source": [
    "N = int(input())\n",
    "arr_n = numpy.array( [input().split() for i in range(N)], int)\n",
    "arr_m = numpy.array( [input().split() for i in range(N)], int)\n",
    "\n",
    "result = numpy.dot(arr_n, arr_m)\n",
    "print(result)"
   ]
  },
  {
   "cell_type": "markdown",
   "id": "f8239369",
   "metadata": {},
   "source": [
    "#### Min and Max"
   ]
  },
  {
   "cell_type": "code",
   "execution_count": 177,
   "id": "b35f38af",
   "metadata": {},
   "outputs": [
    {
     "name": "stdout",
     "output_type": "stream",
     "text": [
      "4 2\n",
      "2 5\n",
      "3 7\n",
      "1 3\n",
      "4 0\n",
      "3\n"
     ]
    }
   ],
   "source": [
    "N, M = map(int,input().split())\n",
    "arr_n = numpy.array( [input().split() for i in range(N)], int)\n",
    "result = numpy.min(arr_n, axis = 1)\n",
    "\n",
    "print(max(result))"
   ]
  },
  {
   "cell_type": "markdown",
   "id": "482d0207",
   "metadata": {},
   "source": [
    "#### Inner and Outer"
   ]
  },
  {
   "cell_type": "code",
   "execution_count": null,
   "id": "0540af07",
   "metadata": {},
   "outputs": [],
   "source": [
    "arr1 = numpy.array(input().strip().split(), int)\n",
    "arr2 = numpy.array(input().strip().split(), int)\n",
    "\n",
    "print (numpy.inner(arr1, arr2))\n",
    "print (numpy.outer(arr1, arr2))"
   ]
  },
  {
   "cell_type": "markdown",
   "id": "0c17630f",
   "metadata": {},
   "source": [
    "#### Sum and Prod"
   ]
  },
  {
   "cell_type": "code",
   "execution_count": 193,
   "id": "bf405af2",
   "metadata": {},
   "outputs": [
    {
     "name": "stdout",
     "output_type": "stream",
     "text": [
      "3 3\n",
      "1 1 1\n",
      "1 1 1\n",
      "1 1 1\n",
      "27\n"
     ]
    }
   ],
   "source": [
    "N, M = map(int,input().split())\n",
    "\n",
    "matrix = numpy.array([input().split() for i in range(N)], int)\n",
    "\n",
    "result = numpy.sum(matrix, axis = 0)\n",
    "#print(result)\n",
    "print (numpy.prod(result))\n"
   ]
  },
  {
   "cell_type": "markdown",
   "id": "8fe138ff",
   "metadata": {},
   "source": [
    "#### Polynomials"
   ]
  },
  {
   "cell_type": "code",
   "execution_count": 12,
   "id": "c8ad6a32",
   "metadata": {},
   "outputs": [
    {
     "name": "stdout",
     "output_type": "stream",
     "text": [
      "1.1 2 3\n",
      "0\n",
      "3.0\n"
     ]
    }
   ],
   "source": [
    "#import numpy\n",
    "\n",
    "poly_coefs = list(map(float,input().split()))\n",
    "x = float(input())\n",
    "\n",
    "result = numpy.polyval(poly_coefs , x)\n",
    "\n",
    "print(result)"
   ]
  },
  {
   "cell_type": "markdown",
   "id": "3385dc93",
   "metadata": {},
   "source": [
    "#### Floor, Ceil and Rint"
   ]
  },
  {
   "cell_type": "code",
   "execution_count": 17,
   "id": "12672588",
   "metadata": {},
   "outputs": [
    {
     "name": "stdout",
     "output_type": "stream",
     "text": [
      "1.1 2.2 3.3 4.4 5.5 6.6 7.7 8.8 9.9\n"
     ]
    }
   ],
   "source": [
    "numpy.set_printoptions(legacy = \"1.13\")\n",
    "\n",
    "arr = numpy.array(input().strip().split(), float)\n",
    "\n",
    "#print(arr)\n",
    "print (numpy.floor(arr))\n",
    "print (numpy.ceil(arr))\n",
    "print (numpy.rint(arr))"
   ]
  },
  {
   "cell_type": "markdown",
   "id": "a5f17956",
   "metadata": {},
   "source": [
    "#### Array Mathematics"
   ]
  },
  {
   "cell_type": "code",
   "execution_count": 29,
   "id": "ef0bd17b",
   "metadata": {},
   "outputs": [
    {
     "name": "stdout",
     "output_type": "stream",
     "text": [
      "1 4\n",
      "1 2 3 4\n",
      "5 6 7 8\n"
     ]
    }
   ],
   "source": [
    "N, M = map(int,input().split())\n",
    "\n",
    "arr_A = numpy.array([input().split() for i in range(N)], int)\n",
    "arr_B = numpy.array([input().split() for i in range(N)], int)\n",
    "\n",
    "print(arr_A + arr_B)\n",
    "print(arr_A - arr_B)\n",
    "print(arr_A * arr_B)\n",
    "print(arr_A // arr_B)\n",
    "print(arr_A % arr_B)\n",
    "print(arr_A ** arr_B)"
   ]
  },
  {
   "cell_type": "markdown",
   "id": "f981679d",
   "metadata": {},
   "source": [
    "#### Linear Algebra"
   ]
  },
  {
   "cell_type": "code",
   "execution_count": 53,
   "id": "569e8645",
   "metadata": {},
   "outputs": [
    {
     "name": "stdout",
     "output_type": "stream",
     "text": [
      "2\n",
      "1.1 1.1\n",
      "1.1 1.2\n",
      "0.11\n"
     ]
    }
   ],
   "source": [
    "numpy.set_printoptions(legacy='1.13')\n",
    "\n",
    "N = int(input())\n",
    "matrix = numpy.array([input().split() for i in range(N)], float)\n",
    "\n",
    "result = numpy.linalg.det(matrix)\n",
    "print (result)"
   ]
  },
  {
   "cell_type": "markdown",
   "id": "e2636972",
   "metadata": {},
   "source": [
    "#### Mean, Var, and Std"
   ]
  },
  {
   "cell_type": "code",
   "execution_count": null,
   "id": "baa40959",
   "metadata": {},
   "outputs": [],
   "source": [
    "N, M = map(int,input().split())\n",
    "matrix = numpy.array([input().split() for i in range(N)], float)\n",
    "\n",
    "print ( numpy.mean(matrix, axis = 1) )\n",
    "print ( numpy.var(matrix, axis = 0) )\n",
    "print( round (numpy.std(matrix, axis = None), 11))"
   ]
  },
  {
   "cell_type": "code",
   "execution_count": null,
   "id": "041b4cbb",
   "metadata": {},
   "outputs": [],
   "source": []
  },
  {
   "cell_type": "markdown",
   "id": "d0093701",
   "metadata": {},
   "source": [
    "## • Regex and Parsing :"
   ]
  },
  {
   "cell_type": "code",
   "execution_count": null,
   "id": "2639cb2f",
   "metadata": {},
   "outputs": [],
   "source": [
    "## Some of the exercises in this section have been solved with help of the solutions found online.\n",
    "## I had never worked with regular expressions before and I found them quite complicated.\n",
    "## However, in any case, trying to understand the request of the exercise and the procedure to get the relative solution."
   ]
  },
  {
   "cell_type": "markdown",
   "id": "689dc5e6",
   "metadata": {},
   "source": [
    "#### Re. split ( )"
   ]
  },
  {
   "cell_type": "code",
   "execution_count": 6,
   "id": "51778703",
   "metadata": {},
   "outputs": [
    {
     "name": "stdout",
     "output_type": "stream",
     "text": [
      "100,000,000.000\n",
      "100\n",
      "000\n",
      "000\n",
      "000\n"
     ]
    }
   ],
   "source": [
    "import re\n",
    "\n",
    "regex_pattern = r\"[,.]\"   # Do not delete 'r'.\n",
    "\n",
    "print(\"\\n\".join(re.split(regex_pattern, input())))"
   ]
  },
  {
   "cell_type": "markdown",
   "id": "3634e688",
   "metadata": {},
   "source": [
    "#### Re. findall ( ) & Re. finditer ( )"
   ]
  },
  {
   "cell_type": "code",
   "execution_count": 38,
   "id": "633a2453",
   "metadata": {},
   "outputs": [],
   "source": [
    "my_stringa = \"rabcdeefgyYhFjkIoomnpOeorteeeeet\""
   ]
  },
  {
   "cell_type": "code",
   "execution_count": 54,
   "id": "238ba8a7",
   "metadata": {},
   "outputs": [
    {
     "name": "stdout",
     "output_type": "stream",
     "text": [
      "rabcdeefgyYhFjkIoomnpOeorteeeeet\n",
      "ee\n",
      "Ioo\n",
      "Oeo\n",
      "eeeee\n"
     ]
    }
   ],
   "source": [
    "my_stringa = str(input())\n",
    "\n",
    "vocali = \"aeiou\"\n",
    "consonanti = \"qwrtypsdfghjklzxcvbnm.\"\n",
    "\n",
    "#re.findall(pattern, s, flag=re.IGNORECASE)\n",
    "l = re.findall(r\"(?<=[%s])([%s]{2,})[%s]\" % (consonanti, vocali, consonanti), my_stringa, flags = re.IGNORECASE)\n",
    "\n",
    "# ?<= Lookbehind assertion\n",
    "# in pattern -> (cons)(voc)(cons)\n",
    "\n",
    "if len(l) != 0:\n",
    "    print(*l, sep=\"\\n\")\n",
    "else:\n",
    "    print(-1)"
   ]
  },
  {
   "cell_type": "markdown",
   "id": "9e7524bc",
   "metadata": {},
   "source": [
    "#### Re. start ( ) & Re. end ( )"
   ]
  },
  {
   "cell_type": "code",
   "execution_count": 84,
   "id": "6d6c40fe",
   "metadata": {},
   "outputs": [
    {
     "name": "stdout",
     "output_type": "stream",
     "text": [
      "(0, 1)\n",
      "(1, 2)\n",
      "(4, 5)\n"
     ]
    }
   ],
   "source": [
    "\n",
    "my_stringa = str(input())\n",
    "\n",
    "k = str(input())\n",
    "\n",
    "pattern = re.compile(k)\n",
    "m = pattern.search(my_stringa)\n",
    "if not m:\n",
    "    print(\"(-1, -1)\")\n",
    "else:\n",
    "    while m:\n",
    "        print(\"({0}, {1})\".format(m.start(), m.end() - 1))\n",
    "        m = pattern.search(my_stringa, m.start() + 1)"
   ]
  },
  {
   "cell_type": "markdown",
   "id": "38bd2cbc",
   "metadata": {},
   "source": [
    "#### Validating phone numbers"
   ]
  },
  {
   "cell_type": "code",
   "execution_count": 2,
   "id": "d782a3d2",
   "metadata": {},
   "outputs": [],
   "source": [
    "import re"
   ]
  },
  {
   "cell_type": "code",
   "execution_count": 3,
   "id": "f632f971",
   "metadata": {},
   "outputs": [
    {
     "name": "stdout",
     "output_type": "stream",
     "text": [
      "2\n",
      "1252478965\n",
      "9587456281\n",
      "NO\n",
      "YES\n"
     ]
    }
   ],
   "source": [
    "N = int(input())\n",
    "\n",
    "numbers = [str(input()) for i in range(N)]\n",
    "\n",
    "pattern = re.compile(r\"^[789]{1}\\d{9}$\")\n",
    "\n",
    "for i in numbers:\n",
    "    \n",
    "    matches = list(pattern.finditer(i))\n",
    "    if len(matches) != 0:\n",
    "        print(\"YES\")\n",
    "    else: print(\"NO\")"
   ]
  },
  {
   "cell_type": "markdown",
   "id": "7cf44789",
   "metadata": {},
   "source": [
    "#### Validating Roman Numerals"
   ]
  },
  {
   "cell_type": "code",
   "execution_count": 15,
   "id": "4cfcf8f5",
   "metadata": {},
   "outputs": [
    {
     "name": "stdout",
     "output_type": "stream",
     "text": [
      "CDXXI\n",
      "True\n"
     ]
    }
   ],
   "source": [
    "regex_pattern = (r\"^M{0,3}(CM|CD|D?C{0,3})(XC|XL|L?X{0,3})(IX|IV|V?I{0,3})$\")\n",
    "# Do not delete 'r'\n",
    "\n",
    "import re\n",
    "print(str(bool(re.match(regex_pattern, input()))))"
   ]
  },
  {
   "cell_type": "markdown",
   "id": "c9bb536b",
   "metadata": {},
   "source": [
    "#### Detect Floating Point Number"
   ]
  },
  {
   "cell_type": "code",
   "execution_count": null,
   "id": "011c3482",
   "metadata": {},
   "outputs": [],
   "source": [
    "T = int(input())\n",
    "\n",
    "pattern = re.compile(r\"^([-\\+])?\\d{0,}\\.\\d{0,}$\")\n",
    "\n",
    "test_list = [str(input()) for x in range(T)]\n",
    "\n",
    "for x in range(len(test_list)):\n",
    "    \n",
    "    print(str(bool(re.match(pattern, test_list[x]))))"
   ]
  },
  {
   "cell_type": "markdown",
   "id": "7128c109",
   "metadata": {},
   "source": [
    "#### Validating and Parsing Email Addresses"
   ]
  },
  {
   "cell_type": "code",
   "execution_count": 9,
   "id": "d4d827c7",
   "metadata": {},
   "outputs": [
    {
     "name": "stdout",
     "output_type": "stream",
     "text": [
      "2\n",
      "VIRUS <virus!@variable.:p>\n",
      "DEXTER <dexter@hotmail.com>\n",
      "DEXTER <dexter@hotmail.com>\n"
     ]
    }
   ],
   "source": [
    "import re\n",
    "import email.utils\n",
    "\n",
    "n = int(input())\n",
    "\n",
    "pattern = r\"<[A-Za-z](\\w|-|\\.|_)+@[A-Za-z]+\\.[A-Za-z]{1,3}>\"\n",
    "for i in range(n):\n",
    "    name, email = str(input()).split()\n",
    "    result = re.match(pattern, email)\n",
    "    if result:\n",
    "        print (name, email)\n",
    "    "
   ]
  },
  {
   "cell_type": "markdown",
   "id": "1fa59f4c",
   "metadata": {},
   "source": [
    "#### Group(), Groups() & Groupdict()"
   ]
  },
  {
   "cell_type": "code",
   "execution_count": 14,
   "id": "50d76367",
   "metadata": {},
   "outputs": [
    {
     "name": "stdout",
     "output_type": "stream",
     "text": [
      "..12345678910111213141516171820212223\n",
      "1\n"
     ]
    }
   ],
   "source": [
    "stringa = str(input())\n",
    "\n",
    "pattern = r\"([a-z A-Z0-9])\\1\"\n",
    "\n",
    "result = re.search(pattern, stringa)\n",
    "if result:\n",
    "    print(result.groups()[0])\n",
    "else: print(\"-1\")"
   ]
  },
  {
   "cell_type": "markdown",
   "id": "44bfe587",
   "metadata": {},
   "source": [
    "#### Hex Color Code"
   ]
  },
  {
   "cell_type": "code",
   "execution_count": null,
   "id": "b1547dd4",
   "metadata": {},
   "outputs": [],
   "source": [
    "#import re\n",
    "\n",
    "N=int(input())\n",
    "\n",
    "pattern = r'#[a-fA-F0-9]{3,6}'\n",
    "\n",
    "for i in range(0,N):\n",
    "    s=input()\n",
    "\n",
    "    x=s.split()\n",
    "\n",
    "    if len(x)>1  and  '{' not in x:\n",
    "        result = re.findall( pattern , s)\n",
    "        [print(i) for  i in result]"
   ]
  },
  {
   "cell_type": "markdown",
   "id": "772dfb20",
   "metadata": {},
   "source": [
    "#### HTML Parser - Part 1"
   ]
  },
  {
   "cell_type": "code",
   "execution_count": 29,
   "id": "b6c4b64c",
   "metadata": {},
   "outputs": [],
   "source": [
    "#pip install HTMLParser\n",
    "from html.parser import HTMLParser"
   ]
  },
  {
   "cell_type": "code",
   "execution_count": null,
   "id": "ec2c4201",
   "metadata": {},
   "outputs": [],
   "source": [
    "# create a subclass and override the handler methods\n",
    "class MyHTMLParser(HTMLParser):\n",
    "    \n",
    "    def handle_starttag(self, tag, attrs):\n",
    "        print (\"Start :\", tag)\n",
    "        \n",
    "        if len(attrs) != 0:\n",
    "            for i in range(len(attrs)):\n",
    "                print(\"->\", attrs[i][0], \">\", attrs[i][1])\n",
    "                \n",
    "    def handle_endtag(self, tag):\n",
    "        print (\"End   :\", tag)\n",
    "        \n",
    "    def handle_startendtag(self, tag, attrs):\n",
    "        print (\"Empty :\", tag)\n",
    "        \n",
    "        if len(attrs) != 0:\n",
    "            for i in range(len(attrs)):\n",
    "                print(\"->\", attrs[i][0], \">\", attrs[i][1])\n",
    "                \n",
    "# instantiate the parser and fed it some HTML\n",
    "n = int(input())\n",
    "html = \"\"\n",
    "\n",
    "for i in range(n):\n",
    "    text = str(input())\n",
    "    html += text\n",
    "parser = MyHTMLParser()\n",
    "parser.feed(html)"
   ]
  },
  {
   "cell_type": "markdown",
   "id": "f3a475d3",
   "metadata": {},
   "source": [
    "#### HTML Parser - Part 2"
   ]
  },
  {
   "cell_type": "code",
   "execution_count": null,
   "id": "678ac515",
   "metadata": {},
   "outputs": [],
   "source": [
    "#from html.parser import HTMLParser     # exercise completed with the help of solutions proposed online\n",
    "\n",
    "class MyHTMLParser(HTMLParser):\n",
    "    \n",
    "    def handle_comment(self,data):\n",
    "        char = \"\\n\"\n",
    "        if char in data:\n",
    "            print(\">>> Multi-line Comment\")\n",
    "        else:\n",
    "            print(\">>> Single-line Comment\")\n",
    "        print(data)\n",
    "    def handle_data(self,data):\n",
    "        if(data != '\\n'):\n",
    "            print(\">>> Data\")\n",
    "            print(data) \n",
    "\n",
    "html = \"\"       \n",
    "for i in range(int(input())):\n",
    "    html += input().rstrip()\n",
    "    html += '\\n'\n",
    "    \n",
    "parser = MyHTMLParser()\n",
    "parser.feed(html)\n",
    "parser.close()   "
   ]
  },
  {
   "cell_type": "markdown",
   "id": "850fe341",
   "metadata": {},
   "source": [
    "#### Detect HTML Tags, Attributes and Attribute Values"
   ]
  },
  {
   "cell_type": "code",
   "execution_count": null,
   "id": "1d9a29a3",
   "metadata": {},
   "outputs": [],
   "source": [
    "class MyHTMLParser(HTMLParser):\n",
    "    \n",
    "    def handle_starttag(self, tag, attrs):\n",
    "        print (tag)\n",
    "        \n",
    "        if len(attrs) != 0:\n",
    "            for i in range(len(attrs)):\n",
    "                print(\"->\", attrs[i][0], \">\", attrs[i][1])\n",
    "\n",
    "    def handle_startendtag(self, tag, attrs):\n",
    "        print (tag)\n",
    "        \n",
    "        if len(attrs) != 0:\n",
    "            for i in range(len(attrs)):\n",
    "                print(\"->\", attrs[i][0], \">\", attrs[i][1])\n",
    "\n",
    "n = int(input())\n",
    "html = \"\"\n",
    "\n",
    "for i in range(n):\n",
    "    text = str(input())\n",
    "    html += text\n",
    "parser = MyHTMLParser()\n",
    "parser.feed(html)"
   ]
  },
  {
   "cell_type": "markdown",
   "id": "89a06bc7",
   "metadata": {},
   "source": [
    "#### Validating UID:"
   ]
  },
  {
   "cell_type": "code",
   "execution_count": 156,
   "id": "9af91e89",
   "metadata": {},
   "outputs": [],
   "source": [
    "n = int(input())\n",
    "uid_to_check = []\n",
    "\n",
    "def valid_uid(uid):\n",
    "    \n",
    "    uppercase = re.findall(r\"[A-Z]\", uid)\n",
    "    digits = re.findall(r\"[0-9]\", uid)\n",
    "    result = re.match(r\"[A-Za-z0-9]{10}$\", uid)\n",
    "    \n",
    "    if len(uppercase) < 2 or len(digits) < 3 or len(set(uid)) != len(uid) or result == None :\n",
    "        print(\"Invalid\")\n",
    "    else:\n",
    "        print(\"Valid\")\n",
    "\n",
    "for i in range(n):\n",
    "    uid = str(input())\n",
    "    uid_to_check.append(uid)\n",
    "\n",
    "for i in uid_to_check:\n",
    "    valid_uid(i)"
   ]
  },
  {
   "cell_type": "code",
   "execution_count": null,
   "id": "f438e9c2",
   "metadata": {},
   "outputs": [],
   "source": []
  },
  {
   "cell_type": "markdown",
   "id": "6d3f7bc2",
   "metadata": {},
   "source": [
    "## Problem 2:"
   ]
  },
  {
   "cell_type": "code",
   "execution_count": null,
   "id": "57bd996f",
   "metadata": {},
   "outputs": [],
   "source": [
    "## I had hard times completing the exercises in this section due to the RunningTime Error. \n",
    "## Therefore to be able to deliver them, I made use of some suggestions from the web."
   ]
  },
  {
   "cell_type": "markdown",
   "id": "3b2b2e05",
   "metadata": {},
   "source": [
    "#### Birthday Cake Candles"
   ]
  },
  {
   "cell_type": "code",
   "execution_count": null,
   "id": "f47c88f9",
   "metadata": {},
   "outputs": [],
   "source": [
    "def birthdayCakeCandles(candles):\n",
    "    \n",
    "    counter = 0\n",
    "    primo = candles[0]\n",
    "    \n",
    "    ## to find the max\n",
    "    for i in (range(1,len(candles))):\n",
    "        if candles[i]> primo:\n",
    "            primo = candles[i]\n",
    "            \n",
    "    #to see how many max there are\n",
    "    for i in (range(len(candles))):\n",
    "        if candles[i] == primo:\n",
    "            counter += 1\n",
    "    return counter\n",
    "\n",
    "if __name__ == '__main__':\n",
    "\n",
    "    candles_count = int(input().strip())\n",
    "    candles = list(map(int, input().rstrip().split()))\n",
    "    result = birthdayCakeCandles(candles)\n",
    "    print(result)"
   ]
  },
  {
   "cell_type": "markdown",
   "id": "6ea9ba05",
   "metadata": {},
   "source": [
    "#### Number Line Jumps (Kangaroo)"
   ]
  },
  {
   "cell_type": "code",
   "execution_count": null,
   "id": "0703fb77",
   "metadata": {},
   "outputs": [],
   "source": [
    "def kangaroo(x1, v1, x2, v2):\n",
    "    # Write your code here\n",
    "    \n",
    "    not_exist = True\n",
    "    while not_exist:\n",
    "        x1 += v1\n",
    "        x2 += v2\n",
    "        if x1 == x2:\n",
    "            not_exist = False\n",
    "            break\n",
    "        if (v1 > v2 and x1 > x2) or (v2 > v1 and x2 > x1) or (v2 == v1 and x2 != x1):\n",
    "            break\n",
    "        \n",
    "    if not_exist:\n",
    "        return'NO'\n",
    "    else:\n",
    "        return'YES'\n",
    "    \n",
    "if __name__ == '__main__':\n",
    "\n",
    "    first_multiple_input = input().rstrip().split()\n",
    "    \n",
    "    x1 = int(first_multiple_input[0])\n",
    "    v1 = int(first_multiple_input[1])\n",
    "    x2 = int(first_multiple_input[2])\n",
    "    v2 = int(first_multiple_input[3])\n",
    "\n",
    "    result = kangaroo(x1, v1, x2, v2)\n",
    "    print(result)"
   ]
  },
  {
   "cell_type": "markdown",
   "id": "9388fe47",
   "metadata": {},
   "source": [
    "#### Viral Advertising"
   ]
  },
  {
   "cell_type": "code",
   "execution_count": null,
   "id": "e360fff2",
   "metadata": {},
   "outputs": [],
   "source": [
    "def viralAdvertising(n):\n",
    "    # Write your code here\n",
    "    \n",
    "    i = 1\n",
    "    shared = 5\n",
    "    liked = shared//2\n",
    "    cumulative=liked\n",
    "    #print(shared, liked, cumulative)\n",
    "    \n",
    "    while i<n:\n",
    "        shared = liked*3\n",
    "        liked = shared//2\n",
    "        cumulative += liked\n",
    "        #print(shared, liked, cumulative)\n",
    "        i += 1\n",
    "    return cumulative\n",
    "    \n",
    "\n",
    "if __name__ == '__main__':\n",
    "\n",
    "    n = int(input().strip())\n",
    "    result = viralAdvertising(n)\n",
    "    print(result)"
   ]
  },
  {
   "cell_type": "markdown",
   "id": "b9f0e711",
   "metadata": {},
   "source": [
    "#### Recursive Digit Sum"
   ]
  },
  {
   "cell_type": "code",
   "execution_count": null,
   "id": "ace19c62",
   "metadata": {},
   "outputs": [],
   "source": [
    "def super_digit(n, k):\n",
    "    digits = map(int, list(n))\n",
    "    digits = sum(digits)\n",
    "    return get_super_digit(str(digits * k))\n",
    "\n",
    "def get_super_digit(p):\n",
    "    if len(p) == 1:\n",
    "        return int(p)\n",
    "    else:\n",
    "        digits = map(int, list(p))\n",
    "        return get_super_digit(str(sum(digits)))\n",
    "\n",
    "\n",
    "if __name__ == '__main__':\n",
    "    \n",
    "    first_multiple_input = input().rstrip().split()\n",
    "    n = first_multiple_input[0]\n",
    "    k = int(first_multiple_input[1])\n",
    "\n",
    "    result = super_digit(n, k)\n",
    "    print(result)\n"
   ]
  },
  {
   "cell_type": "markdown",
   "id": "1f99f51d",
   "metadata": {},
   "source": [
    "#### Insertion Sort - Part 1"
   ]
  },
  {
   "cell_type": "code",
   "execution_count": null,
   "id": "4c724cd9",
   "metadata": {},
   "outputs": [],
   "source": [
    "def insertionSort1(n, arr):\n",
    "    # Write your code here\n",
    "    #print(\"**************************\")\n",
    "    \n",
    "    ultimo = arr[-1]\n",
    "    j = (n-2)\n",
    "    \n",
    "    while j >= 0 and arr[j] > ultimo:\n",
    "        arr[j+1] = arr[j]\n",
    "        print(*arr)\n",
    "        j -= 1\n",
    "    arr[j+1] = ultimo\n",
    "    print(*arr)\n",
    "    \n",
    "if __name__ == '__main__':\n",
    "    \n",
    "    n = int(input().strip())\n",
    "    arr = list(map(int, input().rstrip().split()))\n",
    "    insertionSort1(n, arr)"
   ]
  },
  {
   "cell_type": "code",
   "execution_count": null,
   "id": "6f41211b",
   "metadata": {},
   "outputs": [],
   "source": []
  },
  {
   "cell_type": "code",
   "execution_count": null,
   "id": "e0104288",
   "metadata": {},
   "outputs": [],
   "source": []
  },
  {
   "cell_type": "code",
   "execution_count": null,
   "id": "d95e4a3d",
   "metadata": {},
   "outputs": [],
   "source": []
  }
 ],
 "metadata": {
  "kernelspec": {
   "display_name": "Python 3 (ipykernel)",
   "language": "python",
   "name": "python3"
  },
  "language_info": {
   "codemirror_mode": {
    "name": "ipython",
    "version": 3
   },
   "file_extension": ".py",
   "mimetype": "text/x-python",
   "name": "python",
   "nbconvert_exporter": "python",
   "pygments_lexer": "ipython3",
   "version": "3.9.7"
  }
 },
 "nbformat": 4,
 "nbformat_minor": 5
}
